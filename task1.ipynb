{
 "cells": [
  {
   "cell_type": "code",
   "execution_count": 2,
   "id": "4ad958ae-c3d5-44ad-a858-3c5460a34599",
   "metadata": {
    "scrolled": true
   },
   "outputs": [],
   "source": [
    "import pandas as pd\n",
    "import matplotlib.pyplot as plt\n",
    "import seaborn as sns\n",
    "from scipy.stats import ttest_ind"
   ]
  },
  {
   "cell_type": "code",
   "execution_count": 3,
   "id": "7f8557f1-05ce-4bff-9a3c-5d27a45e51fa",
   "metadata": {},
   "outputs": [],
   "source": [
    "data = pd.read_stata('C:/Users/10345/OneDrive/博士/IPEN_5140/replication1/replication_package_MS-ENI-20-00293-1/replication_package_MS-ENI-20-00293/regressions/data__assignee__nber_cat.dta')"
   ]
  },
  {
   "cell_type": "markdown",
   "id": "dabaa82e",
   "metadata": {},
   "source": [
    "### 任务1：强制保密对相同企业的后续创新影响\n",
    "\n",
    "- 数据描述\n",
    "\n",
    "  - 使用数据集 `data__assignee__nber_cat.dta`，限于1930到1960年的观察值。简要介绍数据结构，包括数据中的唯一标识、公司数量及缺失值情况。"
   ]
  },
  {
   "cell_type": "code",
   "execution_count": 4,
   "id": "85fe87c9",
   "metadata": {},
   "outputs": [],
   "source": [
    "df = data[(data['year'] >= 1930) & (data['year'] <= 1960)]"
   ]
  },
  {
   "cell_type": "code",
   "execution_count": 5,
   "id": "5067929f",
   "metadata": {},
   "outputs": [
    {
     "data": {
      "text/html": [
       "<div>\n",
       "<style scoped>\n",
       "    .dataframe tbody tr th:only-of-type {\n",
       "        vertical-align: middle;\n",
       "    }\n",
       "\n",
       "    .dataframe tbody tr th {\n",
       "        vertical-align: top;\n",
       "    }\n",
       "\n",
       "    .dataframe thead th {\n",
       "        text-align: right;\n",
       "    }\n",
       "</style>\n",
       "<table border=\"1\" class=\"dataframe\">\n",
       "  <thead>\n",
       "    <tr style=\"text-align: right;\">\n",
       "      <th></th>\n",
       "      <th>nber_cat</th>\n",
       "      <th>osrd_contractor</th>\n",
       "      <th>year</th>\n",
       "      <th>patents</th>\n",
       "      <th>secret_patents</th>\n",
       "      <th>any_patent</th>\n",
       "      <th>self_total_secrate</th>\n",
       "      <th>self_incat_secrate</th>\n",
       "      <th>self_total_pre1939</th>\n",
       "      <th>self_incat_pre1939</th>\n",
       "      <th>...</th>\n",
       "      <th>self_incat_secrate_q1_t5</th>\n",
       "      <th>self_incat_secrate_q2_t1</th>\n",
       "      <th>self_incat_secrate_q2_t3</th>\n",
       "      <th>self_incat_secrate_q2_t4</th>\n",
       "      <th>self_incat_secrate_q2_t5</th>\n",
       "      <th>self_incat_secrate_q3_t1</th>\n",
       "      <th>self_incat_secrate_q3_t3</th>\n",
       "      <th>self_incat_secrate_q3_t4</th>\n",
       "      <th>self_incat_secrate_q3_t5</th>\n",
       "      <th>ones</th>\n",
       "    </tr>\n",
       "  </thead>\n",
       "  <tbody>\n",
       "    <tr>\n",
       "      <th>count</th>\n",
       "      <td>2.717460e+06</td>\n",
       "      <td>2.717460e+06</td>\n",
       "      <td>2.717460e+06</td>\n",
       "      <td>2.717460e+06</td>\n",
       "      <td>2.717460e+06</td>\n",
       "      <td>2.717460e+06</td>\n",
       "      <td>751905.000000</td>\n",
       "      <td>503875.000000</td>\n",
       "      <td>2.717460e+06</td>\n",
       "      <td>2.717460e+06</td>\n",
       "      <td>...</td>\n",
       "      <td>503875.000000</td>\n",
       "      <td>503875.000000</td>\n",
       "      <td>503875.000000</td>\n",
       "      <td>503875.000000</td>\n",
       "      <td>503875.000000</td>\n",
       "      <td>503875.000000</td>\n",
       "      <td>503875.000000</td>\n",
       "      <td>503875.000000</td>\n",
       "      <td>503875.000000</td>\n",
       "      <td>2717460.0</td>\n",
       "    </tr>\n",
       "    <tr>\n",
       "      <th>mean</th>\n",
       "      <td>5.264795e+01</td>\n",
       "      <td>7.727805e-03</td>\n",
       "      <td>1.943600e+03</td>\n",
       "      <td>3.942145e-01</td>\n",
       "      <td>8.574183e-05</td>\n",
       "      <td>2.030963e-01</td>\n",
       "      <td>0.007749</td>\n",
       "      <td>0.006538</td>\n",
       "      <td>6.579836e+00</td>\n",
       "      <td>7.691282e-01</td>\n",
       "      <td>...</td>\n",
       "      <td>0.001084</td>\n",
       "      <td>0.000677</td>\n",
       "      <td>0.000677</td>\n",
       "      <td>0.000677</td>\n",
       "      <td>0.000677</td>\n",
       "      <td>0.000879</td>\n",
       "      <td>0.000879</td>\n",
       "      <td>0.000879</td>\n",
       "      <td>0.000879</td>\n",
       "      <td>1.0</td>\n",
       "    </tr>\n",
       "    <tr>\n",
       "      <th>std</th>\n",
       "      <td>1.651860e+01</td>\n",
       "      <td>8.756762e-02</td>\n",
       "      <td>9.728311e+00</td>\n",
       "      <td>4.140983e+00</td>\n",
       "      <td>1.834950e-02</td>\n",
       "      <td>4.023037e-01</td>\n",
       "      <td>0.059682</td>\n",
       "      <td>0.071666</td>\n",
       "      <td>9.824702e+01</td>\n",
       "      <td>7.775793e+00</td>\n",
       "      <td>...</td>\n",
       "      <td>0.032900</td>\n",
       "      <td>0.026006</td>\n",
       "      <td>0.026006</td>\n",
       "      <td>0.026006</td>\n",
       "      <td>0.026006</td>\n",
       "      <td>0.029638</td>\n",
       "      <td>0.029638</td>\n",
       "      <td>0.029638</td>\n",
       "      <td>0.029638</td>\n",
       "      <td>0.0</td>\n",
       "    </tr>\n",
       "    <tr>\n",
       "      <th>min</th>\n",
       "      <td>1.100000e+01</td>\n",
       "      <td>0.000000e+00</td>\n",
       "      <td>1.930000e+03</td>\n",
       "      <td>0.000000e+00</td>\n",
       "      <td>0.000000e+00</td>\n",
       "      <td>0.000000e+00</td>\n",
       "      <td>0.000000</td>\n",
       "      <td>0.000000</td>\n",
       "      <td>0.000000e+00</td>\n",
       "      <td>0.000000e+00</td>\n",
       "      <td>...</td>\n",
       "      <td>0.000000</td>\n",
       "      <td>0.000000</td>\n",
       "      <td>0.000000</td>\n",
       "      <td>0.000000</td>\n",
       "      <td>0.000000</td>\n",
       "      <td>0.000000</td>\n",
       "      <td>0.000000</td>\n",
       "      <td>0.000000</td>\n",
       "      <td>0.000000</td>\n",
       "      <td>1.0</td>\n",
       "    </tr>\n",
       "    <tr>\n",
       "      <th>25%</th>\n",
       "      <td>4.500000e+01</td>\n",
       "      <td>0.000000e+00</td>\n",
       "      <td>1.935000e+03</td>\n",
       "      <td>0.000000e+00</td>\n",
       "      <td>0.000000e+00</td>\n",
       "      <td>0.000000e+00</td>\n",
       "      <td>0.000000</td>\n",
       "      <td>0.000000</td>\n",
       "      <td>0.000000e+00</td>\n",
       "      <td>0.000000e+00</td>\n",
       "      <td>...</td>\n",
       "      <td>0.000000</td>\n",
       "      <td>0.000000</td>\n",
       "      <td>0.000000</td>\n",
       "      <td>0.000000</td>\n",
       "      <td>0.000000</td>\n",
       "      <td>0.000000</td>\n",
       "      <td>0.000000</td>\n",
       "      <td>0.000000</td>\n",
       "      <td>0.000000</td>\n",
       "      <td>1.0</td>\n",
       "    </tr>\n",
       "    <tr>\n",
       "      <th>50%</th>\n",
       "      <td>5.900000e+01</td>\n",
       "      <td>0.000000e+00</td>\n",
       "      <td>1.946000e+03</td>\n",
       "      <td>0.000000e+00</td>\n",
       "      <td>0.000000e+00</td>\n",
       "      <td>0.000000e+00</td>\n",
       "      <td>0.000000</td>\n",
       "      <td>0.000000</td>\n",
       "      <td>0.000000e+00</td>\n",
       "      <td>0.000000e+00</td>\n",
       "      <td>...</td>\n",
       "      <td>0.000000</td>\n",
       "      <td>0.000000</td>\n",
       "      <td>0.000000</td>\n",
       "      <td>0.000000</td>\n",
       "      <td>0.000000</td>\n",
       "      <td>0.000000</td>\n",
       "      <td>0.000000</td>\n",
       "      <td>0.000000</td>\n",
       "      <td>0.000000</td>\n",
       "      <td>1.0</td>\n",
       "    </tr>\n",
       "    <tr>\n",
       "      <th>75%</th>\n",
       "      <td>6.500000e+01</td>\n",
       "      <td>0.000000e+00</td>\n",
       "      <td>1.951000e+03</td>\n",
       "      <td>0.000000e+00</td>\n",
       "      <td>0.000000e+00</td>\n",
       "      <td>0.000000e+00</td>\n",
       "      <td>0.000000</td>\n",
       "      <td>0.000000</td>\n",
       "      <td>1.000000e+00</td>\n",
       "      <td>1.000000e+00</td>\n",
       "      <td>...</td>\n",
       "      <td>0.000000</td>\n",
       "      <td>0.000000</td>\n",
       "      <td>0.000000</td>\n",
       "      <td>0.000000</td>\n",
       "      <td>0.000000</td>\n",
       "      <td>0.000000</td>\n",
       "      <td>0.000000</td>\n",
       "      <td>0.000000</td>\n",
       "      <td>0.000000</td>\n",
       "      <td>1.0</td>\n",
       "    </tr>\n",
       "    <tr>\n",
       "      <th>max</th>\n",
       "      <td>6.900000e+01</td>\n",
       "      <td>1.000000e+00</td>\n",
       "      <td>1.956000e+03</td>\n",
       "      <td>1.102000e+03</td>\n",
       "      <td>1.500000e+01</td>\n",
       "      <td>1.000000e+00</td>\n",
       "      <td>1.000000</td>\n",
       "      <td>1.000000</td>\n",
       "      <td>6.768000e+03</td>\n",
       "      <td>1.923000e+03</td>\n",
       "      <td>...</td>\n",
       "      <td>1.000000</td>\n",
       "      <td>1.000000</td>\n",
       "      <td>1.000000</td>\n",
       "      <td>1.000000</td>\n",
       "      <td>1.000000</td>\n",
       "      <td>1.000000</td>\n",
       "      <td>1.000000</td>\n",
       "      <td>1.000000</td>\n",
       "      <td>1.000000</td>\n",
       "      <td>1.0</td>\n",
       "    </tr>\n",
       "  </tbody>\n",
       "</table>\n",
       "<p>8 rows × 42 columns</p>\n",
       "</div>"
      ],
      "text/plain": [
       "           nber_cat  osrd_contractor          year       patents  \\\n",
       "count  2.717460e+06     2.717460e+06  2.717460e+06  2.717460e+06   \n",
       "mean   5.264795e+01     7.727805e-03  1.943600e+03  3.942145e-01   \n",
       "std    1.651860e+01     8.756762e-02  9.728311e+00  4.140983e+00   \n",
       "min    1.100000e+01     0.000000e+00  1.930000e+03  0.000000e+00   \n",
       "25%    4.500000e+01     0.000000e+00  1.935000e+03  0.000000e+00   \n",
       "50%    5.900000e+01     0.000000e+00  1.946000e+03  0.000000e+00   \n",
       "75%    6.500000e+01     0.000000e+00  1.951000e+03  0.000000e+00   \n",
       "max    6.900000e+01     1.000000e+00  1.956000e+03  1.102000e+03   \n",
       "\n",
       "       secret_patents    any_patent  self_total_secrate  self_incat_secrate  \\\n",
       "count    2.717460e+06  2.717460e+06       751905.000000       503875.000000   \n",
       "mean     8.574183e-05  2.030963e-01            0.007749            0.006538   \n",
       "std      1.834950e-02  4.023037e-01            0.059682            0.071666   \n",
       "min      0.000000e+00  0.000000e+00            0.000000            0.000000   \n",
       "25%      0.000000e+00  0.000000e+00            0.000000            0.000000   \n",
       "50%      0.000000e+00  0.000000e+00            0.000000            0.000000   \n",
       "75%      0.000000e+00  0.000000e+00            0.000000            0.000000   \n",
       "max      1.500000e+01  1.000000e+00            1.000000            1.000000   \n",
       "\n",
       "       self_total_pre1939  self_incat_pre1939  ...  self_incat_secrate_q1_t5  \\\n",
       "count        2.717460e+06        2.717460e+06  ...             503875.000000   \n",
       "mean         6.579836e+00        7.691282e-01  ...                  0.001084   \n",
       "std          9.824702e+01        7.775793e+00  ...                  0.032900   \n",
       "min          0.000000e+00        0.000000e+00  ...                  0.000000   \n",
       "25%          0.000000e+00        0.000000e+00  ...                  0.000000   \n",
       "50%          0.000000e+00        0.000000e+00  ...                  0.000000   \n",
       "75%          1.000000e+00        1.000000e+00  ...                  0.000000   \n",
       "max          6.768000e+03        1.923000e+03  ...                  1.000000   \n",
       "\n",
       "       self_incat_secrate_q2_t1  self_incat_secrate_q2_t3  \\\n",
       "count             503875.000000             503875.000000   \n",
       "mean                   0.000677                  0.000677   \n",
       "std                    0.026006                  0.026006   \n",
       "min                    0.000000                  0.000000   \n",
       "25%                    0.000000                  0.000000   \n",
       "50%                    0.000000                  0.000000   \n",
       "75%                    0.000000                  0.000000   \n",
       "max                    1.000000                  1.000000   \n",
       "\n",
       "       self_incat_secrate_q2_t4  self_incat_secrate_q2_t5  \\\n",
       "count             503875.000000             503875.000000   \n",
       "mean                   0.000677                  0.000677   \n",
       "std                    0.026006                  0.026006   \n",
       "min                    0.000000                  0.000000   \n",
       "25%                    0.000000                  0.000000   \n",
       "50%                    0.000000                  0.000000   \n",
       "75%                    0.000000                  0.000000   \n",
       "max                    1.000000                  1.000000   \n",
       "\n",
       "       self_incat_secrate_q3_t1  self_incat_secrate_q3_t3  \\\n",
       "count             503875.000000             503875.000000   \n",
       "mean                   0.000879                  0.000879   \n",
       "std                    0.029638                  0.029638   \n",
       "min                    0.000000                  0.000000   \n",
       "25%                    0.000000                  0.000000   \n",
       "50%                    0.000000                  0.000000   \n",
       "75%                    0.000000                  0.000000   \n",
       "max                    1.000000                  1.000000   \n",
       "\n",
       "       self_incat_secrate_q3_t4  self_incat_secrate_q3_t5       ones  \n",
       "count             503875.000000             503875.000000  2717460.0  \n",
       "mean                   0.000879                  0.000879        1.0  \n",
       "std                    0.029638                  0.029638        0.0  \n",
       "min                    0.000000                  0.000000        1.0  \n",
       "25%                    0.000000                  0.000000        1.0  \n",
       "50%                    0.000000                  0.000000        1.0  \n",
       "75%                    0.000000                  0.000000        1.0  \n",
       "max                    1.000000                  1.000000        1.0  \n",
       "\n",
       "[8 rows x 42 columns]"
      ]
     },
     "execution_count": 5,
     "metadata": {},
     "output_type": "execute_result"
    }
   ],
   "source": [
    "df.describe()"
   ]
  },
  {
   "cell_type": "code",
   "execution_count": 6,
   "id": "48de85d6",
   "metadata": {},
   "outputs": [
    {
     "data": {
      "text/plain": [
       "392717"
      ]
     },
     "execution_count": 6,
     "metadata": {},
     "output_type": "execute_result"
    }
   ],
   "source": [
    "# 查看唯一公司数量\n",
    "unique_companies = df['assignee'].nunique()\n",
    "unique_companies"
   ]
  },
  {
   "cell_type": "code",
   "execution_count": 7,
   "id": "84e92b90",
   "metadata": {},
   "outputs": [
    {
     "data": {
      "text/plain": [
       "assignee                          0\n",
       "nber_cat                          0\n",
       "osrd_contractor                   0\n",
       "year                              0\n",
       "patents                           0\n",
       "secret_patents                    0\n",
       "any_patent                        0\n",
       "self_total_secrate          1965555\n",
       "self_incat_secrate          2213585\n",
       "self_total_pre1939                0\n",
       "self_incat_pre1939                0\n",
       "self_total_midwar                 0\n",
       "self_incat_midwar                 0\n",
       "assignee_cat                      0\n",
       "period1                           0\n",
       "period3                           0\n",
       "period4                           0\n",
       "period5                           0\n",
       "self_incat_secrate_q0       2213585\n",
       "self_incat_secrate_q1       2213585\n",
       "self_incat_secrate_q2       2213585\n",
       "self_incat_secrate_q3       2213585\n",
       "self_incat_secrate_t1       2213585\n",
       "self_incat_secrate_t3       2213585\n",
       "self_incat_secrate_t4       2213585\n",
       "self_incat_secrate_t5       2213585\n",
       "self_incat_secrate_q0_t1    2213585\n",
       "self_incat_secrate_q0_t3    2213585\n",
       "self_incat_secrate_q0_t4    2213585\n",
       "self_incat_secrate_q0_t5    2213585\n",
       "self_incat_secrate_q1_t1    2213585\n",
       "self_incat_secrate_q1_t3    2213585\n",
       "self_incat_secrate_q1_t4    2213585\n",
       "self_incat_secrate_q1_t5    2213585\n",
       "self_incat_secrate_q2_t1    2213585\n",
       "self_incat_secrate_q2_t3    2213585\n",
       "self_incat_secrate_q2_t4    2213585\n",
       "self_incat_secrate_q2_t5    2213585\n",
       "self_incat_secrate_q3_t1    2213585\n",
       "self_incat_secrate_q3_t3    2213585\n",
       "self_incat_secrate_q3_t4    2213585\n",
       "self_incat_secrate_q3_t5    2213585\n",
       "ones                              0\n",
       "dtype: int64"
      ]
     },
     "execution_count": 7,
     "metadata": {},
     "output_type": "execute_result"
    }
   ],
   "source": [
    "missing_values = df.isnull().sum()\n",
    "missing_values"
   ]
  },
  {
   "cell_type": "code",
   "execution_count": 8,
   "id": "8d485c5d",
   "metadata": {},
   "outputs": [
    {
     "data": {
      "text/plain": [
       "Index(['assignee', 'nber_cat', 'osrd_contractor', 'year', 'patents',\n",
       "       'secret_patents', 'any_patent', 'self_total_secrate',\n",
       "       'self_incat_secrate', 'self_total_pre1939', 'self_incat_pre1939',\n",
       "       'self_total_midwar', 'self_incat_midwar', 'assignee_cat', 'period1',\n",
       "       'period3', 'period4', 'period5', 'self_incat_secrate_q0',\n",
       "       'self_incat_secrate_q1', 'self_incat_secrate_q2',\n",
       "       'self_incat_secrate_q3', 'self_incat_secrate_t1',\n",
       "       'self_incat_secrate_t3', 'self_incat_secrate_t4',\n",
       "       'self_incat_secrate_t5', 'self_incat_secrate_q0_t1',\n",
       "       'self_incat_secrate_q0_t3', 'self_incat_secrate_q0_t4',\n",
       "       'self_incat_secrate_q0_t5', 'self_incat_secrate_q1_t1',\n",
       "       'self_incat_secrate_q1_t3', 'self_incat_secrate_q1_t4',\n",
       "       'self_incat_secrate_q1_t5', 'self_incat_secrate_q2_t1',\n",
       "       'self_incat_secrate_q2_t3', 'self_incat_secrate_q2_t4',\n",
       "       'self_incat_secrate_q2_t5', 'self_incat_secrate_q3_t1',\n",
       "       'self_incat_secrate_q3_t3', 'self_incat_secrate_q3_t4',\n",
       "       'self_incat_secrate_q3_t5', 'ones'],\n",
       "      dtype='object')"
      ]
     },
     "execution_count": 8,
     "metadata": {},
     "output_type": "execute_result"
    }
   ],
   "source": [
    "data.columns"
   ]
  },
  {
   "cell_type": "code",
   "execution_count": 9,
   "id": "ae007308",
   "metadata": {},
   "outputs": [],
   "source": [
    "osrd_contractors = df[df['osrd_contractor'] == 1]\n",
    "non_osrd_contractors = df[df['osrd_contractor'] == 0]"
   ]
  },
  {
   "cell_type": "code",
   "execution_count": 10,
   "id": "9b0ac311",
   "metadata": {},
   "outputs": [],
   "source": [
    "periods = {\n",
    "    'period0': range(1930, 1935),\n",
    "    'period1': range(1935, 1940),\n",
    "    'period2': range(1940, 1946),\n",
    "    'period3': range(1946, 1951),\n",
    "    'period4': range(1951, 1956),\n",
    "    'period5': range(1956, 1961)\n",
    "}"
   ]
  },
  {
   "cell_type": "code",
   "execution_count": 11,
   "id": "075cbc73",
   "metadata": {},
   "outputs": [],
   "source": [
    "# 创建一个新的列 'period'，根据年份来分配时间段\n",
    "def assign_period(year):\n",
    "    for period, year_range in periods.items():\n",
    "        if year in year_range:\n",
    "            return period\n",
    "    return None\n",
    "\n",
    "df['period'] = df['year'].apply(assign_period)"
   ]
  },
  {
   "cell_type": "markdown",
   "id": "6d9fbcac",
   "metadata": {},
   "source": [
    "- t检验\n",
    "\n",
    "  - 进行两个t检验，比较“是否为OSRD（战时研发办公室）承包商”的公司在不同时间段的专利数量平均数，以及平均的保密专利数量。"
   ]
  },
  {
   "cell_type": "code",
   "execution_count": 12,
   "id": "74cf95c4",
   "metadata": {},
   "outputs": [],
   "source": [
    "# 定义一个函数来进行 t 检验\n",
    "def perform_t_test(data, period, column):\n",
    "    group1 = data[(data['period'] == period) & (data['osrd_contractor'] == 1)][column]\n",
    "    group2 = data[(data['period'] == period) & (data['osrd_contractor'] == 0)][column]\n",
    "    \n",
    "    t_stat, p_value = ttest_ind(group1, group2, equal_var=True, nan_policy='omit')\n",
    "    return t_stat, p_value\n"
   ]
  },
  {
   "cell_type": "code",
   "execution_count": 13,
   "id": "43fc8d13",
   "metadata": {},
   "outputs": [
    {
     "data": {
      "text/plain": [
       "year\n",
       "1930    543492\n",
       "1935    543492\n",
       "1946    543492\n",
       "1951    543492\n",
       "1956    543492\n",
       "Name: count, dtype: int64"
      ]
     },
     "execution_count": 13,
     "metadata": {},
     "output_type": "execute_result"
    }
   ],
   "source": [
    "data['year'].value_counts()"
   ]
  },
  {
   "cell_type": "code",
   "execution_count": 14,
   "id": "49e200b9",
   "metadata": {},
   "outputs": [
    {
     "data": {
      "text/plain": [
       "period\n",
       "period0    543492\n",
       "period1    543492\n",
       "period3    543492\n",
       "period4    543492\n",
       "period5    543492\n",
       "Name: count, dtype: int64"
      ]
     },
     "execution_count": 14,
     "metadata": {},
     "output_type": "execute_result"
    }
   ],
   "source": [
    "df['period'].value_counts()"
   ]
  },
  {
   "cell_type": "code",
   "execution_count": 15,
   "id": "dd7f068c",
   "metadata": {},
   "outputs": [
    {
     "name": "stdout",
     "output_type": "stream",
     "text": [
      "period0 的专利数量 t 检验结果: t = 92.6898, p = 0.0000\n",
      "period1 的专利数量 t 检验结果: t = 109.3195, p = 0.0000\n",
      "period2 的专利数量 t 检验结果: t = nan, p = nan\n",
      "period3 的专利数量 t 检验结果: t = 138.8149, p = 0.0000\n",
      "period4 的专利数量 t 检验结果: t = 149.2752, p = 0.0000\n",
      "period5 的专利数量 t 检验结果: t = 145.8186, p = 0.0000\n"
     ]
    }
   ],
   "source": [
    "# 对每个时间段进行专利数量的 t 检验\n",
    "for period in periods.keys():\n",
    "    t_stat_patents, p_value_patents = perform_t_test(df, period, 'patents')\n",
    "    print(f\"{period} 的专利数量 t 检验结果: t = {t_stat_patents:.4f}, p = {p_value_patents:.4f}\")"
   ]
  },
  {
   "cell_type": "code",
   "execution_count": 33,
   "id": "0fa9dc6d",
   "metadata": {},
   "outputs": [
    {
     "name": "stdout",
     "output_type": "stream",
     "text": [
      "period0 的专利数量 t 检验结果: t = 12.4174, p = 0.0000\n",
      "period1 的专利数量 t 检验结果: t = 47.6653, p = 0.0000\n",
      "period2 的专利数量 t 检验结果: t = nan, p = nan\n",
      "period3 的专利数量 t 检验结果: t = nan, p = nan\n",
      "period4 的专利数量 t 检验结果: t = nan, p = nan\n",
      "period5 的专利数量 t 检验结果: t = nan, p = nan\n"
     ]
    }
   ],
   "source": [
    "# 对每个时间段进行保密专利数量的 t 检验\n",
    "for period in periods.keys():\n",
    "    t_stat_patents, p_value_patents = perform_t_test(df, period, 'secret_patents')\n",
    "    print(f\"{period} 的专利数量 t 检验结果: t = {t_stat_patents:.4f}, p = {p_value_patents:.4f}\")"
   ]
  },
  {
   "cell_type": "code",
   "execution_count": 30,
   "id": "bc0b6a60",
   "metadata": {},
   "outputs": [
    {
     "name": "stdout",
     "output_type": "stream",
     "text": [
      "保密专利数量的 t 检验结果: t = 49.1760, p = 0.0000\n"
     ]
    }
   ],
   "source": [
    "# 对保密专利数量的 t 检验\n",
    "group_osrd = df[df['osrd_contractor'] == 1]\n",
    "group_non_osrd = df[df['osrd_contractor'] == 0]\n",
    "t_stat_secret, p_value_secret = ttest_ind(group_osrd['secret_patents'], group_non_osrd['secret_patents'], nan_policy='omit')\n",
    "print(f\"保密专利数量的 t 检验结果: t = {t_stat_secret:.4f}, p = {p_value_secret:.4f}\")"
   ]
  },
  {
   "cell_type": "markdown",
   "id": "c9221942",
   "metadata": {},
   "source": [
    "- 分析专利类别\n",
    "\n",
    "\n",
    "  - 计算每个公司每年申请专利类别的总数，并使用binned scatter plot 探索保密专利数量对专利类别数的可能影响。"
   ]
  },
  {
   "cell_type": "code",
   "execution_count": 17,
   "id": "def71ae7",
   "metadata": {},
   "outputs": [
    {
     "data": {
      "text/plain": [
       "year\n",
       "1930    543492\n",
       "1935    543492\n",
       "1946    543492\n",
       "1951    543492\n",
       "1956    543492\n",
       "Name: count, dtype: int64"
      ]
     },
     "execution_count": 17,
     "metadata": {},
     "output_type": "execute_result"
    }
   ],
   "source": [
    "data['year'].value_counts()"
   ]
  },
  {
   "cell_type": "code",
   "execution_count": 18,
   "id": "a31f8255",
   "metadata": {},
   "outputs": [
    {
     "data": {
      "text/plain": [
       "nber_cat\n",
       "69    428560\n",
       "59    255515\n",
       "51    219465\n",
       "19    183675\n",
       "65    147210\n",
       "63    142785\n",
       "55    130755\n",
       "61    126650\n",
       "53    125960\n",
       "68     93725\n",
       "41     83895\n",
       "52     82075\n",
       "66     60650\n",
       "43     55325\n",
       "64     55110\n",
       "45     53375\n",
       "12     48680\n",
       "62     48660\n",
       "67     48385\n",
       "21     45555\n",
       "49     42175\n",
       "42     39185\n",
       "32     37690\n",
       "54     23310\n",
       "14     21755\n",
       "11     15845\n",
       "13     15540\n",
       "44     15015\n",
       "31     14825\n",
       "22     14725\n",
       "15     14620\n",
       "39     12775\n",
       "24     10535\n",
       "46      1655\n",
       "23      1065\n",
       "25       715\n",
       "33        20\n",
       "Name: count, dtype: int64"
      ]
     },
     "execution_count": 18,
     "metadata": {},
     "output_type": "execute_result"
    }
   ],
   "source": [
    "df['nber_cat'].value_counts()"
   ]
  },
  {
   "cell_type": "code",
   "execution_count": 19,
   "id": "440fc9db",
   "metadata": {},
   "outputs": [],
   "source": [
    "filtered_df = df[df['any_patent'] == 1]\n",
    "\n"
   ]
  },
  {
   "cell_type": "code",
   "execution_count": 20,
   "id": "2245ac08",
   "metadata": {},
   "outputs": [
    {
     "name": "stderr",
     "output_type": "stream",
     "text": [
      "C:\\Users\\10345\\AppData\\Local\\Temp\\ipykernel_189988\\1036832362.py:1: SettingWithCopyWarning: \n",
      "A value is trying to be set on a copy of a slice from a DataFrame.\n",
      "Try using .loc[row_indexer,col_indexer] = value instead\n",
      "\n",
      "See the caveats in the documentation: https://pandas.pydata.org/pandas-docs/stable/user_guide/indexing.html#returning-a-view-versus-a-copy\n",
      "  filtered_df['nclass'] = filtered_df.groupby(['assignee', 'year'])['nber_cat'].transform('nunique')\n"
     ]
    }
   ],
   "source": [
    "filtered_df['nclass'] = filtered_df.groupby(['assignee', 'year'])['nber_cat'].transform('nunique')"
   ]
  },
  {
   "cell_type": "code",
   "execution_count": 21,
   "id": "ba57c7c1",
   "metadata": {},
   "outputs": [
    {
     "data": {
      "text/html": [
       "<div>\n",
       "<style scoped>\n",
       "    .dataframe tbody tr th:only-of-type {\n",
       "        vertical-align: middle;\n",
       "    }\n",
       "\n",
       "    .dataframe tbody tr th {\n",
       "        vertical-align: top;\n",
       "    }\n",
       "\n",
       "    .dataframe thead th {\n",
       "        text-align: right;\n",
       "    }\n",
       "</style>\n",
       "<table border=\"1\" class=\"dataframe\">\n",
       "  <thead>\n",
       "    <tr style=\"text-align: right;\">\n",
       "      <th></th>\n",
       "      <th>assignee</th>\n",
       "      <th>year</th>\n",
       "      <th>nclass</th>\n",
       "      <th>secret_patents</th>\n",
       "    </tr>\n",
       "  </thead>\n",
       "  <tbody>\n",
       "    <tr>\n",
       "      <th>3</th>\n",
       "      <td>&amp; COMMERCIALE DES OUVRIERS LUN</td>\n",
       "      <td>1951</td>\n",
       "      <td>1</td>\n",
       "      <td>0</td>\n",
       "    </tr>\n",
       "    <tr>\n",
       "      <th>9</th>\n",
       "      <td>&amp; COMMERCIALE R MARECHAL S I C</td>\n",
       "      <td>1956</td>\n",
       "      <td>1</td>\n",
       "      <td>0</td>\n",
       "    </tr>\n",
       "    <tr>\n",
       "      <th>10</th>\n",
       "      <td>&amp; D EXPL DU GENERATEUR A PISTO</td>\n",
       "      <td>1930</td>\n",
       "      <td>1</td>\n",
       "      <td>0</td>\n",
       "    </tr>\n",
       "    <tr>\n",
       "      <th>19</th>\n",
       "      <td>&amp; DE CONSTRUCTION DE MOTEURS D</td>\n",
       "      <td>1956</td>\n",
       "      <td>1</td>\n",
       "      <td>0</td>\n",
       "    </tr>\n",
       "    <tr>\n",
       "      <th>22</th>\n",
       "      <td>&amp; DE PARTICIPATIONS EAU GAZ EL</td>\n",
       "      <td>1946</td>\n",
       "      <td>1</td>\n",
       "      <td>0</td>\n",
       "    </tr>\n",
       "    <tr>\n",
       "      <th>...</th>\n",
       "      <td>...</td>\n",
       "      <td>...</td>\n",
       "      <td>...</td>\n",
       "      <td>...</td>\n",
       "    </tr>\n",
       "    <tr>\n",
       "      <th>2717438</th>\n",
       "      <td>ZYNDA HERBERT F</td>\n",
       "      <td>1951</td>\n",
       "      <td>1</td>\n",
       "      <td>0</td>\n",
       "    </tr>\n",
       "    <tr>\n",
       "      <th>2717442</th>\n",
       "      <td>ZYSK JOSEPH M</td>\n",
       "      <td>1946</td>\n",
       "      <td>1</td>\n",
       "      <td>0</td>\n",
       "    </tr>\n",
       "    <tr>\n",
       "      <th>2717449</th>\n",
       "      <td>ZYTKA BERNARD J</td>\n",
       "      <td>1956</td>\n",
       "      <td>1</td>\n",
       "      <td>0</td>\n",
       "    </tr>\n",
       "    <tr>\n",
       "      <th>2717450</th>\n",
       "      <td>ZYUNKITI NAGAOKA</td>\n",
       "      <td>1930</td>\n",
       "      <td>1</td>\n",
       "      <td>0</td>\n",
       "    </tr>\n",
       "    <tr>\n",
       "      <th>2717457</th>\n",
       "      <td>ZYWIECKA HELEN M</td>\n",
       "      <td>1946</td>\n",
       "      <td>1</td>\n",
       "      <td>0</td>\n",
       "    </tr>\n",
       "  </tbody>\n",
       "</table>\n",
       "<p>424599 rows × 4 columns</p>\n",
       "</div>"
      ],
      "text/plain": [
       "                               assignee  year  nclass  secret_patents\n",
       "3        & COMMERCIALE DES OUVRIERS LUN  1951       1               0\n",
       "9        & COMMERCIALE R MARECHAL S I C  1956       1               0\n",
       "10       & D EXPL DU GENERATEUR A PISTO  1930       1               0\n",
       "19       & DE CONSTRUCTION DE MOTEURS D  1956       1               0\n",
       "22       & DE PARTICIPATIONS EAU GAZ EL  1946       1               0\n",
       "...                                 ...   ...     ...             ...\n",
       "2717438                 ZYNDA HERBERT F  1951       1               0\n",
       "2717442                   ZYSK JOSEPH M  1946       1               0\n",
       "2717449                 ZYTKA BERNARD J  1956       1               0\n",
       "2717450                ZYUNKITI NAGAOKA  1930       1               0\n",
       "2717457                ZYWIECKA HELEN M  1946       1               0\n",
       "\n",
       "[424599 rows x 4 columns]"
      ]
     },
     "execution_count": 21,
     "metadata": {},
     "output_type": "execute_result"
    }
   ],
   "source": [
    "final_df = filtered_df[['assignee', 'year', 'nclass', 'secret_patents']].drop_duplicates()\n",
    "final_df"
   ]
  },
  {
   "cell_type": "code",
   "execution_count": 22,
   "id": "d7260d40",
   "metadata": {},
   "outputs": [
    {
     "data": {
      "image/png": "[encoded data removed]",
      "text/plain": [
       "<Figure size 1000x600 with 1 Axes>"
      ]
     },
     "metadata": {},
     "output_type": "display_data"
    }
   ],
   "source": [
    "plt.figure(figsize=(10, 6))\n",
    "plt.scatter(final_df['secret_patents'], final_df['nclass'], alpha=0.6)\n",
    "plt.title('Binned Scatter Plot of Secret Patents vs. Total Patent Classes')\n",
    "plt.xlabel('Total Number of Secret Patents')\n",
    "plt.ylabel('Total Number of Patent Classes')\n",
    "plt.grid(True)\n",
    "plt.tight_layout()\n",
    "plt.show()"
   ]
  },
  {
   "cell_type": "code",
   "execution_count": 23,
   "id": "31740ee0",
   "metadata": {},
   "outputs": [
    {
     "data": {
      "text/plain": [
       "assignee\n",
       "GEN ELECTRIC                      180\n",
       "BELL TELEPHONE LABOR INC          175\n",
       "WESTINGHOUSE ELECTRIC & MFG CO    170\n",
       "DU PONT                           165\n",
       "GEN MOTORS CORP                   165\n",
       "                                 ... \n",
       "GUSTAF BERGSTROM KARL               5\n",
       "GUSTAF BERGMAN                      5\n",
       "GUSTAF AHNSTROM ERIK                5\n",
       "GUSTAAF ADOLF FRISCH                5\n",
       "ZYWIECKA HELEN M                    5\n",
       "Name: count, Length: 392717, dtype: int64"
      ]
     },
     "execution_count": 23,
     "metadata": {},
     "output_type": "execute_result"
    }
   ],
   "source": [
    "df['assignee'].value_counts()"
   ]
  },
  {
   "cell_type": "code",
   "execution_count": 24,
   "id": "e47c6a2e",
   "metadata": {},
   "outputs": [
    {
     "data": {
      "text/plain": [
       "<Figure size 1000x600 with 0 Axes>"
      ]
     },
     "metadata": {},
     "output_type": "display_data"
    },
    {
     "data": {
      "image/png": "[encoded data removed]",
      "text/plain": [
       "<Figure size 640x480 with 1 Axes>"
      ]
     },
     "metadata": {},
     "output_type": "display_data"
    }
   ],
   "source": [
    "plt.figure(figsize=(10, 6))\n",
    "filtered_df.boxplot(column='nclass', by='secret_patents', grid=False)\n",
    "\n",
    "# 添加标题和标签\n",
    "plt.title('Boxplot of Patent Classes by Secret Patents')\n",
    "plt.suptitle('')  # 移除默认的上标题\n",
    "plt.xlabel('Number of Secret Patents')\n",
    "plt.ylabel('Number of Patent Classes')\n",
    "plt.show()"
   ]
  },
  {
   "cell_type": "markdown",
   "id": "98e76472",
   "metadata": {},
   "source": [
    "- 复制主要回归结果\n",
    "\n",
    "  - 复制Table 4的主要回归结果，使用最大似然估计（MLE）替代OLS进行回归，结果应以格式化表格形式展示。\n",
    "  - 使用clogit命令进行公司固定效应回归，并控制标准误在公司层面上聚类，解释为何有些观测值会被丢弃。"
   ]
  },
  {
   "cell_type": "code",
   "execution_count": 29,
   "id": "d58fcffc",
   "metadata": {},
   "outputs": [
    {
     "data": {
      "text/plain": [
       "nber_cat\n",
       "69    428560\n",
       "59    255515\n",
       "51    219465\n",
       "19    183675\n",
       "65    147210\n",
       "63    142785\n",
       "55    130755\n",
       "61    126650\n",
       "53    125960\n",
       "68     93725\n",
       "41     83895\n",
       "52     82075\n",
       "66     60650\n",
       "43     55325\n",
       "64     55110\n",
       "45     53375\n",
       "12     48680\n",
       "62     48660\n",
       "67     48385\n",
       "21     45555\n",
       "49     42175\n",
       "42     39185\n",
       "32     37690\n",
       "54     23310\n",
       "14     21755\n",
       "11     15845\n",
       "13     15540\n",
       "44     15015\n",
       "31     14825\n",
       "22     14725\n",
       "15     14620\n",
       "39     12775\n",
       "24     10535\n",
       "46      1655\n",
       "23      1065\n",
       "25       715\n",
       "33        20\n",
       "Name: count, dtype: int64"
      ]
     },
     "execution_count": 29,
     "metadata": {},
     "output_type": "execute_result"
    }
   ],
   "source": [
    "data['nber_cat'].value_counts()"
   ]
  }
 ],
 "metadata": {
  "kernelspec": {
   "display_name": "Python 3 (ipykernel)",
   "language": "python",
   "name": "python3"
  },
  "language_info": {
   "codemirror_mode": {
    "name": "ipython",
    "version": 3
   },
   "file_extension": ".py",
   "mimetype": "text/x-python",
   "name": "python",
   "nbconvert_exporter": "python",
   "pygments_lexer": "ipython3",
   "version": "3.11.7"
  }
 },
 "nbformat": 4,
 "nbformat_minor": 5
}
