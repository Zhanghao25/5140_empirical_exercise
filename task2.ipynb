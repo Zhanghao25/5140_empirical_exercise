{
 "cells": [
  {
   "cell_type": "code",
   "execution_count": 46,
   "id": "3a1633f5-3751-443e-bf8e-0e47a3b012be",
   "metadata": {},
   "outputs": [],
   "source": [
    "import pandas as pd\n",
    "import matplotlib.pyplot as plt\n",
    "import seaborn as sns\n",
    "from scipy.stats import ttest_ind\n",
    "from scipy import stats"
   ]
  },
  {
   "cell_type": "code",
   "execution_count": 33,
   "id": "a0e61ad0-7e8a-4f4c-bfef-080e70d8ba6e",
   "metadata": {},
   "outputs": [],
   "source": [
    "### describe_patents_citaions.dta\n",
    "df = pd.read_stata('C:/Users/10345/OneDrive/博士/IPEN_5140/replication1/replication/replication_package/descriptives/data__patent_citations.dta')"
   ]
  },
  {
   "cell_type": "code",
   "execution_count": 34,
   "id": "307c2db7",
   "metadata": {},
   "outputs": [],
   "source": [
    "### regression_patents_citaions.dta\n",
    "df1 = pd.read_stata('C:/Users/10345/OneDrive/博士/IPEN_5140/replication1/replication/replication_package/regressions/data__patent_citations.dta')"
   ]
  },
  {
   "cell_type": "code",
   "execution_count": 35,
   "id": "adba71b1",
   "metadata": {},
   "outputs": [
    {
     "data": {
      "text/plain": [
       "(162627, 108)"
      ]
     },
     "execution_count": 35,
     "metadata": {},
     "output_type": "execute_result"
    }
   ],
   "source": [
    "df1.shape"
   ]
  },
  {
   "cell_type": "code",
   "execution_count": 36,
   "id": "8621f043",
   "metadata": {},
   "outputs": [
    {
     "data": {
      "text/plain": [
       "(242614, 12)"
      ]
     },
     "execution_count": 36,
     "metadata": {},
     "output_type": "execute_result"
    }
   ],
   "source": [
    "df.shape"
   ]
  },
  {
   "cell_type": "code",
   "execution_count": 6,
   "id": "6c049a11-d232-4925-a815-5f14edeb9e1e",
   "metadata": {},
   "outputs": [
    {
     "data": {
      "text/html": [
       "<div>\n",
       "<style scoped>\n",
       "    .dataframe tbody tr th:only-of-type {\n",
       "        vertical-align: middle;\n",
       "    }\n",
       "\n",
       "    .dataframe tbody tr th {\n",
       "        vertical-align: top;\n",
       "    }\n",
       "\n",
       "    .dataframe thead th {\n",
       "        text-align: right;\n",
       "    }\n",
       "</style>\n",
       "<table border=\"1\" class=\"dataframe\">\n",
       "  <thead>\n",
       "    <tr style=\"text-align: right;\">\n",
       "      <th></th>\n",
       "      <th>patent_id</th>\n",
       "      <th>uspto_class</th>\n",
       "      <th>weapons_class</th>\n",
       "      <th>filing_date</th>\n",
       "      <th>filing_year</th>\n",
       "      <th>grant_date</th>\n",
       "      <th>grant_year</th>\n",
       "      <th>num_inventors</th>\n",
       "      <th>num_pages</th>\n",
       "      <th>num_drawings</th>\n",
       "      <th>...</th>\n",
       "      <th>osrd_secret_1945</th>\n",
       "      <th>osrd_secrecy_eval_1941</th>\n",
       "      <th>osrd_secrecy_eval_1942</th>\n",
       "      <th>osrd_secrecy_eval_1943</th>\n",
       "      <th>osrd_secrecy_eval_1944</th>\n",
       "      <th>osrd_secrecy_eval_1945</th>\n",
       "      <th>assignee_class</th>\n",
       "      <th>class_yr</th>\n",
       "      <th>assignee_class_yr</th>\n",
       "      <th>post1947_lag</th>\n",
       "    </tr>\n",
       "  </thead>\n",
       "  <tbody>\n",
       "    <tr>\n",
       "      <th>count</th>\n",
       "      <td>1.626270e+05</td>\n",
       "      <td>162627.000000</td>\n",
       "      <td>2315.0</td>\n",
       "      <td>162627</td>\n",
       "      <td>162627.000000</td>\n",
       "      <td>162627</td>\n",
       "      <td>162627.000000</td>\n",
       "      <td>162422.000000</td>\n",
       "      <td>162627.000000</td>\n",
       "      <td>162627.000000</td>\n",
       "      <td>...</td>\n",
       "      <td>162627.000000</td>\n",
       "      <td>162627.000000</td>\n",
       "      <td>162627.000000</td>\n",
       "      <td>162627.000000</td>\n",
       "      <td>162627.000000</td>\n",
       "      <td>162627.000000</td>\n",
       "      <td>162578.000000</td>\n",
       "      <td>162627.000000</td>\n",
       "      <td>162578.000000</td>\n",
       "      <td>162627.000000</td>\n",
       "    </tr>\n",
       "    <tr>\n",
       "      <th>mean</th>\n",
       "      <td>2.384748e+06</td>\n",
       "      <td>254.461473</td>\n",
       "      <td>1.0</td>\n",
       "      <td>1942-12-06 08:11:53.505137536</td>\n",
       "      <td>1942.432062</td>\n",
       "      <td>1945-11-06 21:30:58.075227520</td>\n",
       "      <td>1945.348386</td>\n",
       "      <td>1.199930</td>\n",
       "      <td>5.571055</td>\n",
       "      <td>1.865594</td>\n",
       "      <td>...</td>\n",
       "      <td>0.001654</td>\n",
       "      <td>0.011695</td>\n",
       "      <td>0.020046</td>\n",
       "      <td>0.018109</td>\n",
       "      <td>0.011019</td>\n",
       "      <td>0.003388</td>\n",
       "      <td>44185.609375</td>\n",
       "      <td>1047.632539</td>\n",
       "      <td>56373.460938</td>\n",
       "      <td>0.596399</td>\n",
       "    </tr>\n",
       "    <tr>\n",
       "      <th>min</th>\n",
       "      <td>2.212378e+06</td>\n",
       "      <td>2.000000</td>\n",
       "      <td>1.0</td>\n",
       "      <td>1940-07-01 00:00:00</td>\n",
       "      <td>1940.000000</td>\n",
       "      <td>1940-08-20 00:00:00</td>\n",
       "      <td>1940.000000</td>\n",
       "      <td>1.000000</td>\n",
       "      <td>1.000000</td>\n",
       "      <td>0.000000</td>\n",
       "      <td>...</td>\n",
       "      <td>0.000000</td>\n",
       "      <td>0.000000</td>\n",
       "      <td>0.000000</td>\n",
       "      <td>0.000000</td>\n",
       "      <td>0.000000</td>\n",
       "      <td>0.000000</td>\n",
       "      <td>1.000000</td>\n",
       "      <td>1.000000</td>\n",
       "      <td>1.000000</td>\n",
       "      <td>0.000000</td>\n",
       "    </tr>\n",
       "    <tr>\n",
       "      <th>25%</th>\n",
       "      <td>2.333632e+06</td>\n",
       "      <td>114.000000</td>\n",
       "      <td>1.0</td>\n",
       "      <td>1941-07-23 00:00:00</td>\n",
       "      <td>1941.000000</td>\n",
       "      <td>1943-11-09 00:00:00</td>\n",
       "      <td>1943.000000</td>\n",
       "      <td>1.000000</td>\n",
       "      <td>3.000000</td>\n",
       "      <td>1.000000</td>\n",
       "      <td>...</td>\n",
       "      <td>0.000000</td>\n",
       "      <td>0.000000</td>\n",
       "      <td>0.000000</td>\n",
       "      <td>0.000000</td>\n",
       "      <td>0.000000</td>\n",
       "      <td>0.000000</td>\n",
       "      <td>21902.250000</td>\n",
       "      <td>450.000000</td>\n",
       "      <td>28367.250000</td>\n",
       "      <td>0.000000</td>\n",
       "    </tr>\n",
       "    <tr>\n",
       "      <th>50%</th>\n",
       "      <td>2.379512e+06</td>\n",
       "      <td>241.000000</td>\n",
       "      <td>1.0</td>\n",
       "      <td>1942-11-17 00:00:00</td>\n",
       "      <td>1942.000000</td>\n",
       "      <td>1945-07-03 00:00:00</td>\n",
       "      <td>1945.000000</td>\n",
       "      <td>1.000000</td>\n",
       "      <td>5.000000</td>\n",
       "      <td>1.000000</td>\n",
       "      <td>...</td>\n",
       "      <td>0.000000</td>\n",
       "      <td>0.000000</td>\n",
       "      <td>0.000000</td>\n",
       "      <td>0.000000</td>\n",
       "      <td>0.000000</td>\n",
       "      <td>0.000000</td>\n",
       "      <td>42366.500000</td>\n",
       "      <td>1025.000000</td>\n",
       "      <td>54813.500000</td>\n",
       "      <td>0.000000</td>\n",
       "    </tr>\n",
       "    <tr>\n",
       "      <th>75%</th>\n",
       "      <td>2.424168e+06</td>\n",
       "      <td>384.000000</td>\n",
       "      <td>1.0</td>\n",
       "      <td>1944-04-17 00:00:00</td>\n",
       "      <td>1944.000000</td>\n",
       "      <td>1947-07-15 00:00:00</td>\n",
       "      <td>1947.000000</td>\n",
       "      <td>1.000000</td>\n",
       "      <td>6.000000</td>\n",
       "      <td>2.000000</td>\n",
       "      <td>...</td>\n",
       "      <td>0.000000</td>\n",
       "      <td>0.000000</td>\n",
       "      <td>0.000000</td>\n",
       "      <td>0.000000</td>\n",
       "      <td>0.000000</td>\n",
       "      <td>0.000000</td>\n",
       "      <td>67229.750000</td>\n",
       "      <td>1620.000000</td>\n",
       "      <td>85193.750000</td>\n",
       "      <td>0.449008</td>\n",
       "    </tr>\n",
       "    <tr>\n",
       "      <th>max</th>\n",
       "      <td>4.178474e+06</td>\n",
       "      <td>850.000000</td>\n",
       "      <td>1.0</td>\n",
       "      <td>1945-06-30 00:00:00</td>\n",
       "      <td>1945.000000</td>\n",
       "      <td>1979-12-11 00:00:00</td>\n",
       "      <td>1979.000000</td>\n",
       "      <td>9.000000</td>\n",
       "      <td>395.000000</td>\n",
       "      <td>174.000000</td>\n",
       "      <td>...</td>\n",
       "      <td>1.000000</td>\n",
       "      <td>1.000000</td>\n",
       "      <td>1.000000</td>\n",
       "      <td>1.000000</td>\n",
       "      <td>1.000000</td>\n",
       "      <td>1.000000</td>\n",
       "      <td>88544.000000</td>\n",
       "      <td>2330.000000</td>\n",
       "      <td>112409.000000</td>\n",
       "      <td>32.856949</td>\n",
       "    </tr>\n",
       "    <tr>\n",
       "      <th>std</th>\n",
       "      <td>7.922818e+04</td>\n",
       "      <td>158.313934</td>\n",
       "      <td>0.0</td>\n",
       "      <td>NaN</td>\n",
       "      <td>1.566552</td>\n",
       "      <td>NaN</td>\n",
       "      <td>2.680938</td>\n",
       "      <td>0.473887</td>\n",
       "      <td>4.533712</td>\n",
       "      <td>2.141976</td>\n",
       "      <td>...</td>\n",
       "      <td>0.040637</td>\n",
       "      <td>0.107512</td>\n",
       "      <td>0.140158</td>\n",
       "      <td>0.133346</td>\n",
       "      <td>0.104392</td>\n",
       "      <td>0.058109</td>\n",
       "      <td>26337.898438</td>\n",
       "      <td>658.209114</td>\n",
       "      <td>33099.453125</td>\n",
       "      <td>1.415651</td>\n",
       "    </tr>\n",
       "  </tbody>\n",
       "</table>\n",
       "<p>8 rows × 107 columns</p>\n",
       "</div>"
      ],
      "text/plain": [
       "          patent_id    uspto_class  weapons_class  \\\n",
       "count  1.626270e+05  162627.000000         2315.0   \n",
       "mean   2.384748e+06     254.461473            1.0   \n",
       "min    2.212378e+06       2.000000            1.0   \n",
       "25%    2.333632e+06     114.000000            1.0   \n",
       "50%    2.379512e+06     241.000000            1.0   \n",
       "75%    2.424168e+06     384.000000            1.0   \n",
       "max    4.178474e+06     850.000000            1.0   \n",
       "std    7.922818e+04     158.313934            0.0   \n",
       "\n",
       "                         filing_date    filing_year  \\\n",
       "count                         162627  162627.000000   \n",
       "mean   1942-12-06 08:11:53.505137536    1942.432062   \n",
       "min              1940-07-01 00:00:00    1940.000000   \n",
       "25%              1941-07-23 00:00:00    1941.000000   \n",
       "50%              1942-11-17 00:00:00    1942.000000   \n",
       "75%              1944-04-17 00:00:00    1944.000000   \n",
       "max              1945-06-30 00:00:00    1945.000000   \n",
       "std                              NaN       1.566552   \n",
       "\n",
       "                          grant_date     grant_year  num_inventors  \\\n",
       "count                         162627  162627.000000  162422.000000   \n",
       "mean   1945-11-06 21:30:58.075227520    1945.348386       1.199930   \n",
       "min              1940-08-20 00:00:00    1940.000000       1.000000   \n",
       "25%              1943-11-09 00:00:00    1943.000000       1.000000   \n",
       "50%              1945-07-03 00:00:00    1945.000000       1.000000   \n",
       "75%              1947-07-15 00:00:00    1947.000000       1.000000   \n",
       "max              1979-12-11 00:00:00    1979.000000       9.000000   \n",
       "std                              NaN       2.680938       0.473887   \n",
       "\n",
       "           num_pages   num_drawings  ...  osrd_secret_1945  \\\n",
       "count  162627.000000  162627.000000  ...     162627.000000   \n",
       "mean        5.571055       1.865594  ...          0.001654   \n",
       "min         1.000000       0.000000  ...          0.000000   \n",
       "25%         3.000000       1.000000  ...          0.000000   \n",
       "50%         5.000000       1.000000  ...          0.000000   \n",
       "75%         6.000000       2.000000  ...          0.000000   \n",
       "max       395.000000     174.000000  ...          1.000000   \n",
       "std         4.533712       2.141976  ...          0.040637   \n",
       "\n",
       "       osrd_secrecy_eval_1941  osrd_secrecy_eval_1942  osrd_secrecy_eval_1943  \\\n",
       "count           162627.000000           162627.000000           162627.000000   \n",
       "mean                 0.011695                0.020046                0.018109   \n",
       "min                  0.000000                0.000000                0.000000   \n",
       "25%                  0.000000                0.000000                0.000000   \n",
       "50%                  0.000000                0.000000                0.000000   \n",
       "75%                  0.000000                0.000000                0.000000   \n",
       "max                  1.000000                1.000000                1.000000   \n",
       "std                  0.107512                0.140158                0.133346   \n",
       "\n",
       "       osrd_secrecy_eval_1944  osrd_secrecy_eval_1945  assignee_class  \\\n",
       "count           162627.000000           162627.000000   162578.000000   \n",
       "mean                 0.011019                0.003388    44185.609375   \n",
       "min                  0.000000                0.000000        1.000000   \n",
       "25%                  0.000000                0.000000    21902.250000   \n",
       "50%                  0.000000                0.000000    42366.500000   \n",
       "75%                  0.000000                0.000000    67229.750000   \n",
       "max                  1.000000                1.000000    88544.000000   \n",
       "std                  0.104392                0.058109    26337.898438   \n",
       "\n",
       "            class_yr  assignee_class_yr   post1947_lag  \n",
       "count  162627.000000      162578.000000  162627.000000  \n",
       "mean     1047.632539       56373.460938       0.596399  \n",
       "min         1.000000           1.000000       0.000000  \n",
       "25%       450.000000       28367.250000       0.000000  \n",
       "50%      1025.000000       54813.500000       0.000000  \n",
       "75%      1620.000000       85193.750000       0.449008  \n",
       "max      2330.000000      112409.000000      32.856949  \n",
       "std       658.209114       33099.453125       1.415651  \n",
       "\n",
       "[8 rows x 107 columns]"
      ]
     },
     "execution_count": 6,
     "metadata": {},
     "output_type": "execute_result"
    }
   ],
   "source": [
    "df.describe()"
   ]
  },
  {
   "cell_type": "code",
   "execution_count": 4,
   "id": "8eb18eb5-7480-4e0e-97f6-cf7e30c68614",
   "metadata": {},
   "outputs": [
    {
     "data": {
      "text/plain": [
       "Index(['patent_id', 'uspto_class', 'filing_year', 'grant_year', 'class_yr',\n",
       "       'secrecy_eval', 'secret', 'fcites', 'fciters', 'fclasses', 'fother',\n",
       "       'fself'],\n",
       "      dtype='object')"
      ]
     },
     "execution_count": 4,
     "metadata": {},
     "output_type": "execute_result"
    }
   ],
   "source": [
    "df.columns"
   ]
  },
  {
   "cell_type": "code",
   "execution_count": 8,
   "id": "595dea03",
   "metadata": {},
   "outputs": [
    {
     "data": {
      "text/plain": [
       "filing_year\n",
       "1939    40739\n",
       "1940    40361\n",
       "1945    36363\n",
       "1941    35206\n",
       "1944    31962\n",
       "1942    29524\n",
       "1943    28459\n",
       "Name: count, dtype: int64"
      ]
     },
     "execution_count": 8,
     "metadata": {},
     "output_type": "execute_result"
    }
   ],
   "source": [
    "df['filing_year'].value_counts()"
   ]
  },
  {
   "cell_type": "code",
   "execution_count": 45,
   "id": "8cc6200a",
   "metadata": {},
   "outputs": [
    {
     "data": {
      "text/plain": [
       "(count    6242.000000\n",
       " mean        8.418616\n",
       " std         9.957104\n",
       " min         0.000000\n",
       " 25%         2.000000\n",
       " 50%         5.000000\n",
       " 75%        11.000000\n",
       " max       116.000000\n",
       " Name: fcites, dtype: float64,\n",
       " count    236372.000000\n",
       " mean          4.531328\n",
       " std           5.506408\n",
       " min           0.000000\n",
       " 25%           1.000000\n",
       " 50%           3.000000\n",
       " 75%           6.000000\n",
       " max         343.000000\n",
       " Name: fcites, dtype: float64,\n",
       " 30.72054652215162,\n",
       " 2.493952290848054e-193)"
      ]
     },
     "execution_count": 45,
     "metadata": {},
     "output_type": "execute_result"
    }
   ],
   "source": [
    "# Descriptive statistics to compare the two distributions\n",
    "secret_patents = df[df['secret'] == 1]['fcites']\n",
    "non_secret_patents = df[df['secret'] == 0]['fcites']\n",
    "\n",
    "# Calculate summary statistics\n",
    "secret_stats = secret_patents.describe()\n",
    "non_secret_stats = non_secret_patents.describe()\n",
    "\n",
    "# Perform a t-test to compare the means of the two groups\n",
    "t_stat, p_value = stats.ttest_ind(secret_patents, non_secret_patents, equal_var=False)\n",
    "\n",
    "secret_stats, non_secret_stats, t_stat, p_value"
   ]
  },
  {
   "cell_type": "code",
   "execution_count": 32,
   "id": "1a10c62e",
   "metadata": {},
   "outputs": [
    {
     "data": {
      "text/plain": [
       "(242614, 12)"
      ]
     },
     "execution_count": 32,
     "metadata": {},
     "output_type": "execute_result"
    }
   ],
   "source": [
    "df.shape"
   ]
  },
  {
   "cell_type": "code",
   "execution_count": 48,
   "id": "fa838bfb",
   "metadata": {},
   "outputs": [
    {
     "name": "stderr",
     "output_type": "stream",
     "text": [
      "c:\\Users\\10345\\anaconda3\\Lib\\site-packages\\seaborn\\_oldcore.py:1119: FutureWarning: use_inf_as_na option is deprecated and will be removed in a future version. Convert inf values to NaN before operating instead.\n",
      "  with pd.option_context('mode.use_inf_as_na', True):\n",
      "c:\\Users\\10345\\anaconda3\\Lib\\site-packages\\seaborn\\_oldcore.py:1119: FutureWarning: use_inf_as_na option is deprecated and will be removed in a future version. Convert inf values to NaN before operating instead.\n",
      "  with pd.option_context('mode.use_inf_as_na', True):\n"
     ]
    },
    {
     "data": {
      "image/png": "[encoded data removed]",
      "text/plain": [
       "<Figure size 1000x600 with 1 Axes>"
      ]
     },
     "metadata": {},
     "output_type": "display_data"
    }
   ],
   "source": [
    "plt.figure(figsize=(10, 6))\n",
    "\n",
    "sns.kdeplot(secret_patents, label='Secrecy Ordered (Yes)', linewidth=3, color='navy')\n",
    "sns.kdeplot(non_secret_patents, label='Secrecy Ordered (No)', linewidth=3, color='darkorange')\n",
    "\n",
    "\n",
    "\n",
    "plt.xlabel('Total Number of Forward Citations', fontsize=14)\n",
    "plt.xlim(-1,150)\n",
    "plt.ylabel('Density', fontsize=14)\n",
    "\n",
    "\n",
    "plt.legend(title='Compulsory Secrecy Status', fontsize=12, title_fontsize=13, loc='upper right', frameon=True, shadow=True)\n",
    "\n",
    "# Remove top and right spines for a cleaner look\n",
    "sns.despine()\n",
    "\n",
    "# Display the plot\n",
    "plt.show()\n"
   ]
  }
 ],
 "metadata": {
  "kernelspec": {
   "display_name": "base",
   "language": "python",
   "name": "python3"
  },
  "language_info": {
   "codemirror_mode": {
    "name": "ipython",
    "version": 3
   },
   "file_extension": ".py",
   "mimetype": "text/x-python",
   "name": "python",
   "nbconvert_exporter": "python",
   "pygments_lexer": "ipython3",
   "version": "3.11.7"
  }
 },
 "nbformat": 4,
 "nbformat_minor": 5
}
